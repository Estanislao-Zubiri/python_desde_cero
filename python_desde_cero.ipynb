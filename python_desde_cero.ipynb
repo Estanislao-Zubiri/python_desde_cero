{
 "cells": [
  {
   "cell_type": "markdown",
   "metadata": {
    "id": "wBTkIappek47"
   },
   "source": [
    "# ¡Bienvenidos! En este cuaderno encontrarán el código necesario para seguir el tutorial [\"Python desde cero\"](https://tanizubiri.medium.com/datos-un-encuentro-cercano-80b9c3b97c29), publicado en la plataforma Medium"
   ]
  },
  {
   "cell_type": "markdown",
   "metadata": {
    "id": "mEfv-BHpfVXv"
   },
   "source": [
    "   De esta manera, podrán **copiar y pegar** las líneas y celdas sin necesidad de tener que escribirlo todo manualmente. Esto facilitará el \"code-along\", expresión utilizada para denominar la acción que realiza el usuario de un tutorial al seguir los ejercicios propuestos por el mismo mientras avanza.\n",
    "   \n",
    "   Cualquier apropiación, modificación y/o profanación del material será severamente promovida y apoyada.\n",
    "   \n",
    "   Si tenés preguntas o sugerencias sobre el tutorial, podés escribir a \"tanizubiri@gmail.com\"; haciendo esto me estarás dando lo que se suele llamar \"feedback\" (en español sería algo equivalente a \"devolución\" o, hablando de dinámicas grupales, \"retroalimentación\"). Al ser Python un lenguaje de código abierto, el intercambio entre \"pythonistas\" es fundamental para que el código se desarrolle. \n",
    "\n",
    "\n",
    "\n"
   ]
  },
  {
   "cell_type": "markdown",
   "metadata": {
    "id": "kWsz_789ggp5"
   },
   "source": [
    "El capítulo 1 es introductorio y no contiene líneas de código."
   ]
  },
  {
   "cell_type": "markdown",
   "metadata": {
    "id": "OdFGx4W45iy0"
   },
   "source": [
    "# [Capítulo 2](https://tanizubiri.medium.com/y-d%C3%B3nde-se-habla-en-python%C3%A9s-python-desde-cero-cap-2-7b6fecafac13)"
   ]
  },
  {
   "cell_type": "code",
   "execution_count": 1,
   "metadata": {
    "colab": {
     "base_uri": "https://localhost:8080/",
     "height": 279
    },
    "id": "UDJ0L1tH5tX6",
    "outputId": "f469d55c-66cb-424b-c65e-b360ff29306c"
   },
   "outputs": [
    {
     "name": "stderr",
     "output_type": "stream",
     "text": [
      "Matplotlib is building the font cache; this may take a moment.\n"
     ]
    },
    {
     "data": {
      "text/plain": [
       "<AxesSubplot:>"
      ]
     },
     "execution_count": 1,
     "metadata": {},
     "output_type": "execute_result"
    },
    {
     "data": {
      "image/png": "[encoded data removed]",
      "text/plain": [
       "<Figure size 432x288 with 1 Axes>"
      ]
     },
     "metadata": {
      "needs_background": "light"
     },
     "output_type": "display_data"
    }
   ],
   "source": [
    "import pandas as pd\n",
    "datos = pd.DataFrame(data={\"a\":[1,5,8],\"b\":[3,7,2]})\n",
    "datos.plot(kind='bar')"
   ]
  },
  {
   "cell_type": "markdown",
   "metadata": {
    "id": "wmeYCloTgxOA"
   },
   "source": [
    "# [Capítulo 3](https://tanizubiri.medium.com/n%C3%BAmeros-y-palabras-python-desde-cero-cap-3-c792334d4248)"
   ]
  },
  {
   "cell_type": "code",
   "execution_count": 1,
   "metadata": {
    "id": "dY0ixGRcecQ-"
   },
   "outputs": [],
   "source": [
    "suma = 10+3\n",
    "resta = 10-3\n",
    "multiplicacion = 10*3\n",
    "division = 10/3\n",
    "entero_div = 10//3\n",
    "resto_div = 10%3\n",
    "potencia = 10**3"
   ]
  },
  {
   "cell_type": "code",
   "execution_count": 3,
   "metadata": {
    "colab": {
     "base_uri": "https://localhost:8080/"
    },
    "id": "Vvxo_jz3hGu9",
    "outputId": "209b7d86-5185-45f7-aaef-5dbfe726e700"
   },
   "outputs": [
    {
     "name": "stdout",
     "output_type": "stream",
     "text": [
      "(13,) (7,) (30,) (3.3333333333333335,) (3,) (1,) 1000\n"
     ]
    }
   ],
   "source": [
    "print(suma, resta, multiplicacion, division, entero_div, resto_div, potencia)"
   ]
  },
  {
   "cell_type": "code",
   "execution_count": 4,
   "metadata": {
    "colab": {
     "base_uri": "https://localhost:8080/"
    },
    "id": "As9tOpgBhdgn",
    "outputId": "42aea5f5-6368-4331-ce94-79cfc1c788b4"
   },
   "outputs": [
    {
     "name": "stdout",
     "output_type": "stream",
     "text": [
      "Si tomamos los números 10 y 3 para realizar operaciones numéricas, veremos que la suma nos da (13,) , la resta nos da (7,) , la multiplicación (30,) , y la división (3.3333333333333335,) . Además, podemos obtener sólo el entero de esta última ( (3,) ), el resto ( (1,) ), o también elevar 10 a su tercera potencia ( 1000 ).\n"
     ]
    }
   ],
   "source": [
    "print(\"Si tomamos los números 10 y 3 para realizar operaciones numéricas,\\\n",
    " veremos que la suma nos da\",suma,\", la resta nos da\",resta,\", la\\\n",
    " multiplicación\",multiplicacion,\", y la división\",division,\". Además,\\\n",
    " podemos obtener sólo el entero de esta última (\",entero_div,\"),\\\n",
    " el resto (\",resto_div,\"), o también elevar 10 a su tercera\\\n",
    " potencia (\",potencia, \").\")"
   ]
  },
  {
   "cell_type": "code",
   "execution_count": 5,
   "metadata": {
    "colab": {
     "base_uri": "https://localhost:8080/"
    },
    "id": "bNSUbGHOhljf",
    "outputId": "ab77dd60-9d3a-4c76-bf1f-bf8023043b41"
   },
   "outputs": [
    {
     "name": "stdout",
     "output_type": "stream",
     "text": [
      "Si tomamos los números 10 y 3 para realizar operaciones numéricas,\n",
      "veremos que la suma nos da (13,), la resta nos da (7,), la multiplicación\n",
      "(30,), y la división (3.3333333333333335,). Además, podemos obtener sólo el\n",
      "entero de esta última ((3,)), el resto ((1,)), o también elevar nuestro 10 a su\n",
      "tercera potencia (1000).\n"
     ]
    }
   ],
   "source": [
    "print(f\"Si tomamos los números 10 y 3 para realizar operaciones numéricas,\\n\\\n",
    "veremos que la suma nos da {suma}, la resta nos da {resta}, la multiplicación\\n\\\n",
    "{multiplicacion}, y la división {division}. Además, podemos obtener sólo el\\n\\\n",
    "entero de esta última ({entero_div}), el resto ({resto_div}), \\\n",
    "o también elevar nuestro 10 a su\\ntercera potencia ({potencia}).\")"
   ]
  },
  {
   "cell_type": "code",
   "execution_count": 6,
   "metadata": {
    "colab": {
     "base_uri": "https://localhost:8080/"
    },
    "id": "5DxNgcXJjYMo",
    "outputId": "10dca874-464a-4716-b0fd-ea757c549393"
   },
   "outputs": [
    {
     "name": "stdout",
     "output_type": "stream",
     "text": [
      "Si tomamos los números 10 y 3 para realizar operaciones numéricas, veremos\n",
      "que la suma nos da (13,), la resta nos da (7,), la multiplicación (30,), y la división\n",
      "(3.3333333333333335,). Además, podemos obtener sólo el entero de esta última ((3,)),\n",
      "el resto ((1,)), o también elevar 10 a su tercera potencia (1000).\n"
     ]
    }
   ],
   "source": [
    "print(\"Si tomamos los números 10 y 3 para realizar operaciones numéricas, \\\n",
    "veremos\\nque la suma nos da {0}, la resta nos da {1}, la multiplicación {2}, \\\n",
    "y la división\\n{3}. Además, podemos obtener sólo el entero de esta última ({4}),\\n\\\n",
    "el resto ({5}), o también elevar 10 a su tercera potencia ({6}).\".format(suma\\\n",
    ",resta, multiplicacion,division,entero_div,resto_div,potencia))"
   ]
  },
  {
   "cell_type": "markdown",
   "metadata": {
    "id": "6yVX5o44jiC2"
   },
   "source": [
    "# [Capítulo 4](https://tanizubiri.medium.com/uno-detr%C3%A1s-del-otro-python-desde-cero-cap-4-ddae9c8b7450)"
   ]
  },
  {
   "cell_type": "code",
   "execution_count": 7,
   "metadata": {
    "id": "kf8u5-J8jkWn"
   },
   "outputs": [],
   "source": [
    "nombres = \"García, Mabel-González, Susana-García, Araceli-González, Carlos-\\\n",
    " González, Silvia-García, Ricardo-González, Silvio-González, Violeta-\\\n",
    " García, Alcides-González, Ulises-García, Arturo-González, Francisco-\\\n",
    " García, Jaquelin-González, Yésica-García, Braian-González, Mirtha-\\\n",
    " García, Marilyn-González, Genaro-García, Ramiro-González, Jacinto-\\\n",
    " García, Mabel-García, Jorge-García, Alberto-González, Radamel-\\\n",
    " García, Patricia-García, Esteban-García, Herminia-González, Tomás-\\\n",
    " González, Delfina-García, Gregorio-González, Héctor-García, Felipe-\\\n",
    " García, Gabriel-González, Tadeo-González, Ignacio-García, Celina-\\\n",
    " González, Estefanía-García, Pablo-González, José-González, Nora-\\\n",
    " García, Yenifer-García, Esteban-González, Valerio-García, Débora-\\\n",
    " García, Lisandro-González, Silvia-González, Sarah-García, Franco-\\\n",
    " González, Diómedes-García, Walter-González, Osvaldo-García, Julián-\\\n",
    " González, Nicolás-García, Santiago-González, Marta-García, Gladys-\\\n",
    " González, Gonzalo-González, Gregorio-García, Pedro-García, Mariela-\\\n",
    " García, Filemón-González, Fulgencio-González, Merlín-González, Fidias-\\\n",
    " García, Walter-González, Enrique-García, Victorio\""
   ]
  },
  {
   "cell_type": "code",
   "execution_count": 8,
   "metadata": {
    "colab": {
     "base_uri": "https://localhost:8080/"
    },
    "id": "YLq4vsr6kYZ-",
    "outputId": "e76a2113-ba17-471c-8fc8-9b9906727ca9"
   },
   "outputs": [
    {
     "name": "stdout",
     "output_type": "stream",
     "text": [
      "67\n"
     ]
    }
   ],
   "source": [
    "cant_garcias = nombres.count('García')\n",
    "cant_gonzalez = nombres.count('González')\n",
    "comensales = cant_garcias + cant_gonzalez\n",
    "print(comensales)"
   ]
  },
  {
   "cell_type": "code",
   "execution_count": 9,
   "metadata": {
    "colab": {
     "base_uri": "https://localhost:8080/"
    },
    "id": "sUjB8UC2keC2",
    "outputId": "d5b8ad45-87b7-419f-f6ed-ce645b53a29b"
   },
   "outputs": [
    {
     "name": "stdout",
     "output_type": "stream",
     "text": [
      "Necesitaremos 804 empanadas, 134 botellas de vino y 33.5 litros de ensalada de frutas.\n"
     ]
    }
   ],
   "source": [
    "empanadas = comensales*12\n",
    "bot_vin = comensales*2\n",
    "ens_lts = comensales/2\n",
    "print(\"Necesitaremos {0} empanadas, {1} botellas de vino y {2} litros de\\\n",
    " ensalada de frutas.\".format(empanadas, bot_vin, ens_lts))"
   ]
  },
  {
   "cell_type": "code",
   "execution_count": 10,
   "metadata": {
    "id": "5biS8z4vlLYG"
   },
   "outputs": [],
   "source": [
    "ejemplo_lista = [11, \"abc\", \"lalala\", 2+2, 3/5]"
   ]
  },
  {
   "cell_type": "code",
   "execution_count": 11,
   "metadata": {
    "colab": {
     "base_uri": "https://localhost:8080/"
    },
    "id": "7v4uuyIilRA-",
    "outputId": "3faa207b-3223-4758-9987-6bc8786f888e"
   },
   "outputs": [
    {
     "name": "stdout",
     "output_type": "stream",
     "text": [
      "G\n",
      "lalala\n"
     ]
    }
   ],
   "source": [
    "print (nombres[0])\n",
    "print (ejemplo_lista[-3])"
   ]
  },
  {
   "cell_type": "code",
   "execution_count": 12,
   "metadata": {
    "colab": {
     "base_uri": "https://localhost:8080/",
     "height": 35
    },
    "id": "19sqCB0xmac3",
    "outputId": "5d2c38e1-5665-4b76-d154-828240f84171"
   },
   "outputs": [
    {
     "data": {
      "text/plain": [
       "'García, Mabel'"
      ]
     },
     "execution_count": 12,
     "metadata": {},
     "output_type": "execute_result"
    }
   ],
   "source": [
    "nombres[0:13:1]"
   ]
  },
  {
   "cell_type": "code",
   "execution_count": 13,
   "metadata": {
    "colab": {
     "base_uri": "https://localhost:8080/",
     "height": 35
    },
    "id": "H44F0t_vmWw-",
    "outputId": "8ec0bc3e-7097-48bf-a1f1-0307ba7f10d2"
   },
   "outputs": [
    {
     "data": {
      "text/plain": [
       "'Grí,Mbl'"
      ]
     },
     "execution_count": 13,
     "metadata": {},
     "output_type": "execute_result"
    }
   ],
   "source": [
    "nombres[0:13:2]"
   ]
  },
  {
   "cell_type": "code",
   "execution_count": 14,
   "metadata": {
    "colab": {
     "base_uri": "https://localhost:8080/"
    },
    "id": "Z0yuPPtImnAe",
    "outputId": "d7b5ca83-a715-4bc6-c281-262251b11457"
   },
   "outputs": [
    {
     "name": "stdout",
     "output_type": "stream",
     "text": [
      "['García, Mabel', 'González, Susana', 'García, Araceli', 'González, Carlos', ' González, Silvia', 'García, Ricardo', 'González, Silvio', 'González, Violeta', ' García, Alcides', 'González, Ulises', 'García, Arturo', 'González, Francisco', ' García, Jaquelin', 'González, Yésica', 'García, Braian', 'González, Mirtha', ' García, Marilyn', 'González, Genaro', 'García, Ramiro', 'González, Jacinto', ' García, Mabel', 'García, Jorge', 'García, Alberto', 'González, Radamel', ' García, Patricia', 'García, Esteban', 'García, Herminia', 'González, Tomás', ' González, Delfina', 'García, Gregorio', 'González, Héctor', 'García, Felipe', ' García, Gabriel', 'González, Tadeo', 'González, Ignacio', 'García, Celina', ' González, Estefanía', 'García, Pablo', 'González, José', 'González, Nora', ' García, Yenifer', 'García, Esteban', 'González, Valerio', 'García, Débora', ' García, Lisandro', 'González, Silvia', 'González, Sarah', 'García, Franco', ' González, Diómedes', 'García, Walter', 'González, Osvaldo', 'García, Julián', ' González, Nicolás', 'García, Santiago', 'González, Marta', 'García, Gladys', ' González, Gonzalo', 'González, Gregorio', 'García, Pedro', 'García, Mariela', ' García, Filemón', 'González, Fulgencio', 'González, Merlín', 'González, Fidias', ' García, Walter', 'González, Enrique', 'García, Victorio']\n"
     ]
    }
   ],
   "source": [
    "lista_nombres = nombres.split('-')\n",
    "print(lista_nombres)"
   ]
  },
  {
   "cell_type": "code",
   "execution_count": 15,
   "metadata": {
    "colab": {
     "base_uri": "https://localhost:8080/"
    },
    "id": "p4TJ66EZmsTN",
    "outputId": "eb629b9c-5b5c-44f4-adb4-e9adcfe90c2c"
   },
   "outputs": [
    {
     "name": "stdout",
     "output_type": "stream",
     "text": [
      "Si le pedimos a Python el primer índice de nuestros elementos, en el\n",
      "caso del string obtendremos 'G' y en el caso de la lista, 'García, Mabel'.\n",
      "Por otra parte, si hacemos un slicing, por ejemplo desde el octavo objeto\n",
      "hasta el décimo, obtendremos en el primer caso ' Ma' y en el segundo\n",
      "'['González, Violeta', ' García, Alcides', 'González, Ulises']'.\n"
     ]
    }
   ],
   "source": [
    "print (f\"Si le pedimos a Python el primer índice de nuestros elementos, en el\\n\\\n",
    "caso del string obtendremos '{nombres[0]}' y en el caso de la lista, '{lista_nombres[0]}'\\\n",
    ".\\nPor otra parte, si hacemos un slicing, por ejemplo desde el octavo objeto\\n\\\n",
    "hasta el décimo, obtendremos en el primer caso '{nombres[7:10]}' \\\n",
    "y en el segundo\\n'{lista_nombres[7:10]}'.\")"
   ]
  },
  {
   "cell_type": "code",
   "execution_count": 16,
   "metadata": {
    "colab": {
     "base_uri": "https://localhost:8080/"
    },
    "id": "vLINXkjEmxOt",
    "outputId": "2ab51f68-683a-4a57-80a7-0fa1c1d5b929"
   },
   "outputs": [
    {
     "name": "stdout",
     "output_type": "stream",
     "text": [
      "García, Mabel\n",
      "arcía, M\n"
     ]
    }
   ],
   "source": [
    "print(lista_nombres[0])\n",
    "print(lista_nombres[0][1:9])"
   ]
  },
  {
   "cell_type": "code",
   "execution_count": 17,
   "metadata": {
    "colab": {
     "base_uri": "https://localhost:8080/"
    },
    "id": "9sOSAwC5m9iN",
    "outputId": "bce23336-5779-4c8a-9ab0-af9762710c6b"
   },
   "outputs": [
    {
     "name": "stdout",
     "output_type": "stream",
     "text": [
      "67\n"
     ]
    }
   ],
   "source": [
    "cant_gente = len(lista_nombres)\n",
    "print(cant_gente)"
   ]
  },
  {
   "cell_type": "code",
   "execution_count": 18,
   "metadata": {
    "id": "5Jnb0RUQnCYt"
   },
   "outputs": [],
   "source": [
    "lista_nombres.remove('González, Ignacio')\n",
    "lista_nombres.remove('García, Herminia')\n",
    "lista_nombres.append('García, Roco')\n",
    "lista_nombres.append('García, Ramona')\n",
    "lista_nombres.append('García, Rafael')"
   ]
  },
  {
   "cell_type": "code",
   "execution_count": 19,
   "metadata": {
    "colab": {
     "base_uri": "https://localhost:8080/"
    },
    "id": "9wIFGIz8nKn-",
    "outputId": "15257465-7e00-497c-b08f-c4c484ba3c15"
   },
   "outputs": [
    {
     "name": "stdout",
     "output_type": "stream",
     "text": [
      "Necesitaremos 816 empanadas, 136 botellas de vino y 34.0 litros de ensalada de frutas.\n"
     ]
    }
   ],
   "source": [
    "comensales = len(lista_nombres) #Sólo con agregar esta línea basta para corregir el código\n",
    "empanadas = comensales*12\n",
    "bot_vin = comensales*2\n",
    "ens_lts = comensales/2\n",
    "print(\"Necesitaremos {0} empanadas, {1} botellas de vino y {2} litros de\\\n",
    " ensalada de frutas.\".format(empanadas, bot_vin, ens_lts))"
   ]
  },
  {
   "cell_type": "markdown",
   "metadata": {
    "id": "Cx8_tQ-2vJ1U"
   },
   "source": [
    "# [Capítulo 5](https://tanizubiri.medium.com/la-primera-funci%C3%B3n-python-desde-cero-cap-5-629e629d54a3)"
   ]
  },
  {
   "cell_type": "code",
   "execution_count": 20,
   "metadata": {
    "id": "J8Sw0yCxvMYb"
   },
   "outputs": [],
   "source": [
    "mesas = \"Mesa 1: 5 comensales-Mesa 2: 7 comensales-Mesa 3: 6 comensales-\\\n",
    "Mesa 4: 5 comensales-Mesa 5: 6 comensales-Mesa 6: 7 comensales-\\\n",
    "Mesa 7: 8 comensales-Mesa 8: 6 comensales-Mesa 9: 5 comensales-\\\n",
    "Mesa 10: 8 comensales-Mesa 11: 7 comensales-Mesa 12: 5 comensales-\\\n",
    "Mesa 13: 5 comensales-Mesa 14: 5 comensales\""
   ]
  },
  {
   "cell_type": "code",
   "execution_count": 21,
   "metadata": {
    "id": "U26ROQifvzUa"
   },
   "outputs": [],
   "source": [
    "lista_mesas = mesas.split('-')"
   ]
  },
  {
   "cell_type": "code",
   "execution_count": 22,
   "metadata": {
    "colab": {
     "base_uri": "https://localhost:8080/"
    },
    "id": "SCqqYxdMv1nS",
    "outputId": "0ffc21cd-1a28-4cba-9b38-3e9be6c6a9e2"
   },
   "outputs": [
    {
     "name": "stdout",
     "output_type": "stream",
     "text": [
      "['Mesa 1: 5 comensales', 'Mesa 2: 7 comensales', 'Mesa 3: 6 comensales', 'Mesa 4: 5 comensales', 'Mesa 5: 6 comensales', 'Mesa 6: 7 comensales', 'Mesa 7: 8 comensales', 'Mesa 8: 6 comensales', 'Mesa 9: 5 comensales', 'Mesa 10: 8 comensales', 'Mesa 11: 7 comensales', 'Mesa 12: 5 comensales', 'Mesa 13: 5 comensales', 'Mesa 14: 5 comensales']\n"
     ]
    }
   ],
   "source": [
    "print(lista_mesas)"
   ]
  },
  {
   "cell_type": "code",
   "execution_count": 23,
   "metadata": {
    "colab": {
     "base_uri": "https://localhost:8080/",
     "height": 35
    },
    "id": "j6eK5gCMv3Zi",
    "outputId": "163c6006-556d-42b5-8217-e900c8ad1ba3"
   },
   "outputs": [
    {
     "data": {
      "text/plain": [
       "'Mesa 1: 5 comensales'"
      ]
     },
     "execution_count": 23,
     "metadata": {},
     "output_type": "execute_result"
    }
   ],
   "source": [
    "lista_mesas[0]"
   ]
  },
  {
   "cell_type": "markdown",
   "metadata": {
    "id": "--AVuWjewQ_C"
   },
   "source": [
    "Observemos que la siguiente celda comienza con numeral. Esto se debe a que al ejecutarla nos daría error. Por eso la \"comentamos\" para que cuando le pidamos a Colab que ejecute todo ('Entorno de ejecución', 'Ejecutar todas'), el proceso no se frene en este punto. Si queremos ejecutarla, simplemente borramos el \"#\" y ¡voilá!"
   ]
  },
  {
   "cell_type": "code",
   "execution_count": 24,
   "metadata": {
    "id": "jwImAoq5v7-b"
   },
   "outputs": [],
   "source": [
    "#lista_mesas[0][:6] * lista_mesas[0][8]"
   ]
  },
  {
   "cell_type": "code",
   "execution_count": 25,
   "metadata": {
    "colab": {
     "base_uri": "https://localhost:8080/",
     "height": 35
    },
    "id": "PcLdcks4wMv6",
    "outputId": "20876b4b-273a-4645-faf7-d892eb692735"
   },
   "outputs": [
    {
     "data": {
      "text/plain": [
       "'Mesa 1Mesa 1Mesa 1Mesa 1Mesa 1'"
      ]
     },
     "execution_count": 25,
     "metadata": {},
     "output_type": "execute_result"
    }
   ],
   "source": [
    "lista_mesas[0][:6] * int(lista_mesas[0][8])"
   ]
  },
  {
   "cell_type": "code",
   "execution_count": 26,
   "metadata": {
    "colab": {
     "base_uri": "https://localhost:8080/",
     "height": 35
    },
    "id": "rugCWkiXyIVr",
    "outputId": "85f0c9ca-88f7-4eb8-a2ce-7607df433ed3"
   },
   "outputs": [
    {
     "data": {
      "text/plain": [
       "'Mesa 1-----'"
      ]
     },
     "execution_count": 26,
     "metadata": {},
     "output_type": "execute_result"
    }
   ],
   "source": [
    "lista_mesas[0][:6] + '-' * int(lista_mesas[0][8])"
   ]
  },
  {
   "cell_type": "code",
   "execution_count": 27,
   "metadata": {
    "colab": {
     "base_uri": "https://localhost:8080/",
     "height": 35
    },
    "id": "SG7WBFF-yOb0",
    "outputId": "e410c806-17d3-40a9-c07f-1ebcfd4d5545"
   },
   "outputs": [
    {
     "data": {
      "text/plain": [
       "'Mesa 1-Mesa 1-Mesa 1-Mesa 1-Mesa 1-'"
      ]
     },
     "execution_count": 27,
     "metadata": {},
     "output_type": "execute_result"
    }
   ],
   "source": [
    "(lista_mesas[0][:6] + '-') * int(lista_mesas[0][8])"
   ]
  },
  {
   "cell_type": "code",
   "execution_count": 28,
   "metadata": {
    "colab": {
     "base_uri": "https://localhost:8080/"
    },
    "id": "4ALhXfWRyVOT",
    "outputId": "e2f8be0b-2ccc-441c-811f-6675206874a4"
   },
   "outputs": [
    {
     "data": {
      "text/plain": [
       "['Mesa 1', 'Mesa 1', 'Mesa 1', 'Mesa 1', 'Mesa 1', '']"
      ]
     },
     "execution_count": 28,
     "metadata": {},
     "output_type": "execute_result"
    }
   ],
   "source": [
    "((lista_mesas[0][:6] + '-') * int(lista_mesas[0][8])).split('-')"
   ]
  },
  {
   "cell_type": "code",
   "execution_count": 29,
   "metadata": {
    "colab": {
     "base_uri": "https://localhost:8080/",
     "height": 35
    },
    "id": "Cj4qzN5GynR9",
    "outputId": "f2f24723-4bfc-46bc-b264-6b43ecf63242"
   },
   "outputs": [
    {
     "data": {
      "text/plain": [
       "''"
      ]
     },
     "execution_count": 29,
     "metadata": {},
     "output_type": "execute_result"
    }
   ],
   "source": [
    "((lista_mesas[0][:6] + '-') * int(lista_mesas[0][8])).split('-').pop(-1)"
   ]
  },
  {
   "cell_type": "code",
   "execution_count": 30,
   "metadata": {
    "id": "6xllgkqLysPj"
   },
   "outputs": [],
   "source": [
    "((lista_mesas[0][:6] + '-') * int(lista_mesas[0][8])).split('-').remove('')"
   ]
  },
  {
   "cell_type": "code",
   "execution_count": 31,
   "metadata": {
    "colab": {
     "base_uri": "https://localhost:8080/"
    },
    "id": "sZHZqMC-yzgU",
    "outputId": "9eaf1101-bff7-4fd5-a3fc-aacb225f4be4"
   },
   "outputs": [
    {
     "data": {
      "text/plain": [
       "['Mesa 1', 'Mesa 1', 'Mesa 1', 'Mesa 1', 'Mesa 1']"
      ]
     },
     "execution_count": 31,
     "metadata": {},
     "output_type": "execute_result"
    }
   ],
   "source": [
    "etiquetas = ((lista_mesas[0][:6] + '-') * int(lista_mesas[0][8])).split('-')\n",
    "etiquetas.remove('')\n",
    "etiquetas"
   ]
  },
  {
   "cell_type": "code",
   "execution_count": 32,
   "metadata": {
    "colab": {
     "base_uri": "https://localhost:8080/"
    },
    "id": "YEbMBMPuy68G",
    "outputId": "8e039f74-a19f-488d-8ee6-ce79a819aa3d"
   },
   "outputs": [
    {
     "data": {
      "text/plain": [
       "['Mesa 1', 'Mesa 1', 'Mesa 1', 'Mesa 1', 'Mesa 1']"
      ]
     },
     "execution_count": 32,
     "metadata": {},
     "output_type": "execute_result"
    }
   ],
   "source": [
    "def hacer_etiquetas(x):\n",
    "  etiquetas = ((x[:6] + '-') * int(x[8])).split('-')\n",
    "  etiquetas.remove('')\n",
    "  return etiquetas\n",
    "\n",
    "hacer_etiquetas(lista_mesas[0])"
   ]
  },
  {
   "cell_type": "markdown",
   "metadata": {},
   "source": [
    "# [**Capítulo 6**](https://tanizubiri.medium.com/bucles-definidos-python-desde-cero-cap-6-803d2f8d8a25)"
   ]
  },
  {
   "cell_type": "code",
   "execution_count": 33,
   "metadata": {},
   "outputs": [
    {
     "name": "stdout",
     "output_type": "stream",
     "text": [
      "Mesa 1: 5 comensales-Estoy iterando-\n",
      "Mesa 2: 7 comensales-Estoy iterando-\n",
      "Mesa 3: 6 comensales-Estoy iterando-\n",
      "Mesa 4: 5 comensales-Estoy iterando-\n",
      "Mesa 5: 6 comensales-Estoy iterando-\n",
      "Mesa 6: 7 comensales-Estoy iterando-\n",
      "Mesa 7: 8 comensales-Estoy iterando-\n",
      "Mesa 8: 6 comensales-Estoy iterando-\n",
      "Mesa 9: 5 comensales-Estoy iterando-\n",
      "Mesa 10: 8 comensales-Estoy iterando-\n",
      "Mesa 11: 7 comensales-Estoy iterando-\n",
      "Mesa 12: 5 comensales-Estoy iterando-\n",
      "Mesa 13: 5 comensales-Estoy iterando-\n",
      "Mesa 14: 5 comensales-Estoy iterando-\n"
     ]
    }
   ],
   "source": [
    "for mesa in lista_mesas:\n",
    "    print (mesa + '-Estoy iterando-')"
   ]
  },
  {
   "cell_type": "code",
   "execution_count": 34,
   "metadata": {},
   "outputs": [],
   "source": [
    "#Esta celda dará error, entonces está comentada para poder ejecutar\n",
    "#todo el cuaderno sin problemas. En caso de querer correrla, basta con\n",
    "#borrar los numerales de las dos siguientes líneas:\n",
    "\n",
    "#for mesa in lista_mesas:\n",
    "#    hacer_etiquetas(mesa)"
   ]
  },
  {
   "cell_type": "code",
   "execution_count": 35,
   "metadata": {},
   "outputs": [
    {
     "name": "stdout",
     "output_type": "stream",
     "text": [
      "Mesa 1:\n",
      "Mesa 2:\n",
      "Mesa 3:\n",
      "Mesa 4:\n",
      "Mesa 5:\n",
      "Mesa 6:\n",
      "Mesa 7:\n",
      "Mesa 8:\n",
      "Mesa 9:\n",
      "Mesa 10\n",
      "Mesa 11\n",
      "Mesa 12\n",
      "Mesa 13\n",
      "Mesa 14\n"
     ]
    }
   ],
   "source": [
    "for i in lista_mesas:\n",
    "    print(i[:7])"
   ]
  },
  {
   "cell_type": "code",
   "execution_count": 36,
   "metadata": {},
   "outputs": [
    {
     "name": "stdout",
     "output_type": "stream",
     "text": [
      "Mesa 1\n",
      "Mesa 2\n",
      "Mesa 3\n",
      "Mesa 4\n",
      "Mesa 5\n",
      "Mesa 6\n",
      "Mesa 7\n",
      "Mesa 8\n",
      "Mesa 9\n",
      "Mesa 10\n",
      "Mesa 11\n",
      "Mesa 12\n",
      "Mesa 13\n",
      "Mesa 14\n"
     ]
    }
   ],
   "source": [
    "for i in lista_mesas:\n",
    "    print(i[:7].replace(':',''))"
   ]
  },
  {
   "cell_type": "code",
   "execution_count": 37,
   "metadata": {},
   "outputs": [
    {
     "name": "stdout",
     "output_type": "stream",
     "text": [
      "5 \n",
      "7 \n",
      "6 \n",
      "5 \n",
      "6 \n",
      "7 \n",
      "8 \n",
      "6 \n",
      "5 \n",
      " 8\n",
      " 7\n",
      " 5\n",
      " 5\n",
      " 5\n"
     ]
    }
   ],
   "source": [
    "for i in lista_mesas:\n",
    "    print(i[8:10])"
   ]
  },
  {
   "cell_type": "code",
   "execution_count": 38,
   "metadata": {},
   "outputs": [
    {
     "name": "stdout",
     "output_type": "stream",
     "text": [
      "5\n",
      "7\n",
      "6\n",
      "5\n",
      "6\n",
      "7\n",
      "8\n",
      "6\n",
      "5\n",
      "8\n",
      "7\n",
      "5\n",
      "5\n",
      "5\n"
     ]
    }
   ],
   "source": [
    "for i in lista_mesas:\n",
    "    print(int(i[8:10]))"
   ]
  },
  {
   "cell_type": "code",
   "execution_count": 39,
   "metadata": {},
   "outputs": [],
   "source": [
    "def hacer_etiquetas(x):\n",
    "  etiquetas = ((x[:7].replace(':','') + '-') * int(x[8:10])).split('-')\n",
    "  etiquetas.remove('')\n",
    "  return etiquetas"
   ]
  },
  {
   "cell_type": "code",
   "execution_count": 40,
   "metadata": {},
   "outputs": [],
   "source": [
    "for x in lista_mesas:\n",
    "    hacer_etiquetas(x)"
   ]
  },
  {
   "cell_type": "code",
   "execution_count": 41,
   "metadata": {},
   "outputs": [
    {
     "data": {
      "text/plain": [
       "[['Mesa 1', 'Mesa 1', 'Mesa 1', 'Mesa 1', 'Mesa 1'],\n",
       " ['Mesa 2', 'Mesa 2', 'Mesa 2', 'Mesa 2', 'Mesa 2', 'Mesa 2', 'Mesa 2'],\n",
       " ['Mesa 3', 'Mesa 3', 'Mesa 3', 'Mesa 3', 'Mesa 3', 'Mesa 3'],\n",
       " ['Mesa 4', 'Mesa 4', 'Mesa 4', 'Mesa 4', 'Mesa 4'],\n",
       " ['Mesa 5', 'Mesa 5', 'Mesa 5', 'Mesa 5', 'Mesa 5', 'Mesa 5'],\n",
       " ['Mesa 6', 'Mesa 6', 'Mesa 6', 'Mesa 6', 'Mesa 6', 'Mesa 6', 'Mesa 6'],\n",
       " ['Mesa 7',\n",
       "  'Mesa 7',\n",
       "  'Mesa 7',\n",
       "  'Mesa 7',\n",
       "  'Mesa 7',\n",
       "  'Mesa 7',\n",
       "  'Mesa 7',\n",
       "  'Mesa 7'],\n",
       " ['Mesa 8', 'Mesa 8', 'Mesa 8', 'Mesa 8', 'Mesa 8', 'Mesa 8'],\n",
       " ['Mesa 9', 'Mesa 9', 'Mesa 9', 'Mesa 9', 'Mesa 9'],\n",
       " ['Mesa 10',\n",
       "  'Mesa 10',\n",
       "  'Mesa 10',\n",
       "  'Mesa 10',\n",
       "  'Mesa 10',\n",
       "  'Mesa 10',\n",
       "  'Mesa 10',\n",
       "  'Mesa 10'],\n",
       " ['Mesa 11', 'Mesa 11', 'Mesa 11', 'Mesa 11', 'Mesa 11', 'Mesa 11', 'Mesa 11'],\n",
       " ['Mesa 12', 'Mesa 12', 'Mesa 12', 'Mesa 12', 'Mesa 12'],\n",
       " ['Mesa 13', 'Mesa 13', 'Mesa 13', 'Mesa 13', 'Mesa 13'],\n",
       " ['Mesa 14', 'Mesa 14', 'Mesa 14', 'Mesa 14', 'Mesa 14']]"
      ]
     },
     "execution_count": 41,
     "metadata": {},
     "output_type": "execute_result"
    }
   ],
   "source": [
    "lista_etiquetas = []\n",
    "for x in lista_mesas:\n",
    "    lista_etiquetas.append(hacer_etiquetas(x))\n",
    "    \n",
    "lista_etiquetas"
   ]
  },
  {
   "cell_type": "code",
   "execution_count": 42,
   "metadata": {},
   "outputs": [
    {
     "data": {
      "text/plain": [
       "[['Mesa 1', 'Mesa 1', 'Mesa 1', 'Mesa 1', 'Mesa 1'],\n",
       " ['Mesa 2', 'Mesa 2', 'Mesa 2', 'Mesa 2', 'Mesa 2', 'Mesa 2', 'Mesa 2'],\n",
       " ['Mesa 3', 'Mesa 3', 'Mesa 3', 'Mesa 3', 'Mesa 3', 'Mesa 3'],\n",
       " ['Mesa 4', 'Mesa 4', 'Mesa 4', 'Mesa 4', 'Mesa 4'],\n",
       " ['Mesa 5', 'Mesa 5', 'Mesa 5', 'Mesa 5', 'Mesa 5', 'Mesa 5'],\n",
       " ['Mesa 6', 'Mesa 6', 'Mesa 6', 'Mesa 6', 'Mesa 6', 'Mesa 6', 'Mesa 6'],\n",
       " ['Mesa 7',\n",
       "  'Mesa 7',\n",
       "  'Mesa 7',\n",
       "  'Mesa 7',\n",
       "  'Mesa 7',\n",
       "  'Mesa 7',\n",
       "  'Mesa 7',\n",
       "  'Mesa 7'],\n",
       " ['Mesa 8', 'Mesa 8', 'Mesa 8', 'Mesa 8', 'Mesa 8', 'Mesa 8'],\n",
       " ['Mesa 9', 'Mesa 9', 'Mesa 9', 'Mesa 9', 'Mesa 9'],\n",
       " ['Mesa 10',\n",
       "  'Mesa 10',\n",
       "  'Mesa 10',\n",
       "  'Mesa 10',\n",
       "  'Mesa 10',\n",
       "  'Mesa 10',\n",
       "  'Mesa 10',\n",
       "  'Mesa 10'],\n",
       " ['Mesa 11', 'Mesa 11', 'Mesa 11', 'Mesa 11', 'Mesa 11', 'Mesa 11', 'Mesa 11'],\n",
       " ['Mesa 12', 'Mesa 12', 'Mesa 12', 'Mesa 12', 'Mesa 12'],\n",
       " ['Mesa 13', 'Mesa 13', 'Mesa 13', 'Mesa 13', 'Mesa 13'],\n",
       " ['Mesa 14', 'Mesa 14', 'Mesa 14', 'Mesa 14', 'Mesa 14']]"
      ]
     },
     "execution_count": 42,
     "metadata": {},
     "output_type": "execute_result"
    }
   ],
   "source": [
    "lista_etiquetas = [hacer_etiquetas(x) for x in lista_mesas]\n",
    "\n",
    "lista_etiquetas"
   ]
  },
  {
   "cell_type": "markdown",
   "metadata": {},
   "source": [
    "# **Capítulo 7**"
   ]
  },
  {
   "cell_type": "markdown",
   "metadata": {},
   "source": [
    "Actualmente en desarrollo :) \n",
    "\n",
    "Si tenés preguntas o sugerencias sobre el tutorial, podés escribir a \"tanizubiri@gmail.com\"; haciendo esto me estarás dando lo que se suele llamar \"feedback\" (en español sería algo equivalente a \"devolución\" o, hablando de dinámicas grupales, \"retroalimentación\"). Al ser Python un lenguaje de código abierto, el intercambio entre \"pythonistas\" es fundamental para que el código se desarrolle."
   ]
  }
 ],
 "metadata": {
  "colab": {
   "name": "python_desde_cero.ipynb",
   "provenance": []
  },
  "kernelspec": {
   "display_name": "Python 3",
   "language": "python",
   "name": "python3"
  },
  "language_info": {
   "codemirror_mode": {
    "name": "ipython",
    "version": 3
   },
   "file_extension": ".py",
   "mimetype": "text/x-python",
   "name": "python",
   "nbconvert_exporter": "python",
   "pygments_lexer": "ipython3",
   "version": "3.8.5"
  }
 },
 "nbformat": 4,
 "nbformat_minor": 1
}
