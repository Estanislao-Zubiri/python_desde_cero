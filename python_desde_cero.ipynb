{
  "nbformat": 4,
  "nbformat_minor": 0,
  "metadata": {
    "colab": {
      "name": "python_desde_cero.ipynb",
      "provenance": []
    },
    "kernelspec": {
      "name": "python3",
      "display_name": "Python 3"
    }
  },
  "cells": [
    {
      "cell_type": "markdown",
      "metadata": {
        "id": "wBTkIappek47"
      },
      "source": [
        "# ¡Bienvenidos! En este cuaderno encontrarán el código necesario para seguir el tutorial [\"Python desde cero\"](https://tanizubiri.medium.com/datos-un-encuentro-cercano-80b9c3b97c29), publicado en la plataforma Medium. 
      ]
    },
    {
      "cell_type": "markdown",
      "metadata": {
        "id": "mEfv-BHpfVXv"
      },
      "source": [
        "   De esta manera, podrán **copiar y pegar** las líneas y celdas sin necesidad de tener que escribirlo todo manualmente. Esto facilitará el \"code-along\", expresión utilizada para denominar la acción que realiza el usuario de un tutorial al seguir los ejercicios propuestos por el mismo mientras avanza.\n",
        "   Cualquier apropiación, modificación y/o profanación del material será severamente promovida y apoyada.\n",
        "\n",
        "\n",
        "\n"
      ]
    },
    {
      "cell_type": "markdown",
      "metadata": {
        "id": "kWsz_789ggp5"
      },
      "source": [
        "Los capítulos 1 y 2 son introductorios y no contienen ejercicios de código"
      ]
    },
    {
      "cell_type": "markdown",
      "metadata": {
        "id": "wmeYCloTgxOA"
      },
      "source": [
        "# Capítulo 3"
      ]
    },
    {
      "cell_type": "code",
      "metadata": {
        "id": "dY0ixGRcecQ-"
      },
      "source": [
        "suma = 10+3,\n",
        "resta = 10-3,\n",
        "multiplicacion = 10*3,\n",
        "division = 10/3,\n",
        "entero_div = 10//3,\n",
        "resto_div = 10%3,\n",
        "potencia = 10**3"
      ],
      "execution_count": null,
      "outputs": []
    },
    {
      "cell_type": "code",
      "metadata": {
        "id": "Vvxo_jz3hGu9"
      },
      "source": [
        "print(suma, resta, multiplicacion, division, entero_div, resto_div, potencia)"
      ],
      "execution_count": null,
      "outputs": []
    },
    {
      "cell_type": "code",
      "metadata": {
        "id": "As9tOpgBhdgn"
      },
      "source": [
        "print(\"Si tomamos los números 10 y 3 para realizar operaciones numéricas,\\\n",
        " veremos que la suma nos da\",suma,\", la resta nos da\",resta,\", la\\\n",
        " multiplicación\",multiplicacion,\", y la división\",division,\". Además,\\\n",
        " podemos obtener sólo el entero de esta última (\",entero_de_division,\"),\\\n",
        " el resto (\",resto_de_division,\"), o también elevar 10 a su tercera\\\n",
        " potencia (\",potencia, \").\")"
      ],
      "execution_count": null,
      "outputs": []
    },
    {
      "cell_type": "code",
      "metadata": {
        "id": "bNSUbGHOhljf"
      },
      "source": [
        "print(f\"Si tomamos los números 10 y 3 para realizar operaciones numéricas,\\n\\\n",
        "veremos que la suma nos da {suma}, la resta nos da {resta}, la multiplicación\\n\\\n",
        "{multiplicacion}, y la división {division}. Además, podemos obtener sólo el\\n\\\n",
        "entero de esta última ({entero_de_division}), el resto ({resto_de_division}), \\\n",
        "o también elevar nuestro 10 a su\\ntercera potencia ({potencia}).\")"
      ],
      "execution_count": null,
      "outputs": []
    },
    {
      "cell_type": "code",
      "metadata": {
        "id": "5DxNgcXJjYMo"
      },
      "source": [
        "print(\"Si tomamos los números 10 y 3 para realizar operaciones numéricas, \\\n",
        "veremos\\nque la suma nos da {0}, la resta nos da {1}, la multiplicación {2}, \\\n",
        "y la división\\n{3}. Además, podemos obtener sólo el entero de esta última ({4}),\\n\\\n",
        "el resto ({5}), o también elevar 10 a su tercera potencia ({6}).\".format(suma\\\n",
        ",resta, multiplicacion,division,entero_de_division,resto_de_division,potencia))"
      ],
      "execution_count": null,
      "outputs": []
    },
    {
      "cell_type": "markdown",
      "metadata": {
        "id": "6yVX5o44jiC2"
      },
      "source": [
        "# Capítulo 4"
      ]
    },
    {
      "cell_type": "code",
      "metadata": {
        "id": "kf8u5-J8jkWn"
      },
      "source": [
        "nombres = \"García, Mabel-González, Susana-García, Araceli-González, Carlos-\\\n",
        " González, Silvia-García, Ricardo-González, Silvio-González, Violeta-\\\n",
        " García, Alcides-González, Ulises-García, Arturo-González, Francisco-\\\n",
        " García, Jaquelin-González, Yésica-García, Braian-González, Mirtha-\\\n",
        " García, Marilyn-González, Genaro-García, Ramiro-González, Jacinto-\\\n",
        " García, Mabel-García, Jorge-García, Alberto-González, Radamel-\\\n",
        " García, Patricia-García, Esteban-García, Herminia-González, Tomás-\\\n",
        " González, Delfina-García, Gregorio-González, Héctor-García, Felipe-\\\n",
        " García, Gabriel-González, Tadeo-González, Ignacio-García, Celina-\\\n",
        " González, Estefanía-García, Pablo-González, José-González, Nora-\\\n",
        " García, Yenifer-García, Esteban-González, Valerio-García, Débora-\\\n",
        " García, Lisandro-González, Silvia-González, Sarah-García, Franco-\\\n",
        " González, Diómedes-García, Walter-González, Osvaldo-García, Julián-\\\n",
        " González, Nicolás-García, Santiago-González, Marta-García, Gladys-\\\n",
        " González, Gonzalo-González, Gregorio-García, Pedro-García, Mariela-\\\n",
        " García, Filemón-González, Fulgencio-González, Merlín-González, Fidias-\\\n",
        " García, Walter-González, Enrique-García, Victorio\""
      ],
      "execution_count": null,
      "outputs": []
    },
    {
      "cell_type": "code",
      "metadata": {
        "id": "YLq4vsr6kYZ-"
      },
      "source": [
        "cant_garcias = nombres.count('García')\n",
        "cant_gonzalez = nombres.count('González')\n",
        "comensales = cant_garcias + cant_gonzalez\n",
        "print(comensales)"
      ],
      "execution_count": null,
      "outputs": []
    },
    {
      "cell_type": "code",
      "metadata": {
        "id": "sUjB8UC2keC2"
      },
      "source": [
        "empanadas = comensales*12\n",
        "bot_vin = comensales*2\n",
        "ens_lts = comensales/2\n",
        "print(\"Necesitaremos {0} empanadas, {1} botellas de vino y {2} litros de\\\n",
        " ensalada de frutas.\".format(empanadas, bot_vin, ens_lts))"
      ],
      "execution_count": null,
      "outputs": []
    },
    {
      "cell_type": "code",
      "metadata": {
        "id": "5biS8z4vlLYG"
      },
      "source": [
        "ejemplo_lista = [11, \"abc\", \"lalala\", 2+2, 3/5]"
      ],
      "execution_count": null,
      "outputs": []
    },
    {
      "cell_type": "code",
      "metadata": {
        "id": "7v4uuyIilRA-"
      },
      "source": [
        "print (nombres[0])\n",
        "print (ejemplo_lista[-3])"
      ],
      "execution_count": null,
      "outputs": []
    },
    {
      "cell_type": "code",
      "metadata": {
        "id": "19sqCB0xmac3"
      },
      "source": [
        "nombres[0:13:1]"
      ],
      "execution_count": null,
      "outputs": []
    },
    {
      "cell_type": "code",
      "metadata": {
        "id": "H44F0t_vmWw-"
      },
      "source": [
        "nombres[0:13:2]"
      ],
      "execution_count": null,
      "outputs": []
    },
    {
      "cell_type": "code",
      "metadata": {
        "id": "Z0yuPPtImnAe"
      },
      "source": [
        "lista_nombres = nombres.split('-')\n",
        "print(lista_nombres)"
      ],
      "execution_count": null,
      "outputs": []
    },
    {
      "cell_type": "code",
      "metadata": {
        "id": "p4TJ66EZmsTN"
      },
      "source": [
        "print (f\"Si le pedimos a Python el primer índice de nuestros elementos, en el\\n\\\n",
        "caso del string obtendremos '{nombres[0]}' y en el caso de la lista, '{lista_nombres[0]}'\\\n",
        ".\\nPor otra parte, si hacemos un slicing, por ejemplo desde el octavo objeto\\n\\\n",
        "hasta el décimo, obtendremos en el primer caso '{nombres[7:10]}' \\\n",
        "y en el segundo\\n'{lista_nombres[7:10]}'.\")"
      ],
      "execution_count": null,
      "outputs": []
    },
    {
      "cell_type": "code",
      "metadata": {
        "id": "vLINXkjEmxOt"
      },
      "source": [
        "print(lista_nombres[0])\n",
        "print(lista_nombres[0][1:9])"
      ],
      "execution_count": null,
      "outputs": []
    },
    {
      "cell_type": "code",
      "metadata": {
        "id": "9sOSAwC5m9iN"
      },
      "source": [
        "cant_gente = len(lista_nombres)\n",
        "print(cant_gente)"
      ],
      "execution_count": null,
      "outputs": []
    },
    {
      "cell_type": "code",
      "metadata": {
        "id": "5Jnb0RUQnCYt"
      },
      "source": [
        "lista_nombres.remove('González, Ignacio')\n",
        "lista_nombres.remove('García, Herminia')\n",
        "lista_nombres.append('García, Roco')\n",
        "lista_nombres.append('García, Ramona')\n",
        "lista_nombres.append('García, Rafael')"
      ],
      "execution_count": null,
      "outputs": []
    },
    {
      "cell_type": "code",
      "metadata": {
        "id": "9wIFGIz8nKn-"
      },
      "source": [
        "comensales = len(lista_nombres) #Sólo con agregar esta línea basta para corregir el código\n",
        "empanadas = comensales*12\n",
        "bot_vin = comensales*2\n",
        "ens_lts = comensales/2\n",
        "print(\"Necesitaremos {0} empanadas, {1} botellas de vino y {2} litros de\\\n",
        " ensalada de frutas.\".format(empanadas, bot_vin, ens_lts))"
      ],
      "execution_count": null,
      "outputs": []
    }
  ]
}
