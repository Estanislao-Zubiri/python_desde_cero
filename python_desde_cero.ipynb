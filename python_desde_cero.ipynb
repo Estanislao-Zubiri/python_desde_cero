{
  "nbformat": 4,
  "nbformat_minor": 0,
  "metadata": {
    "colab": {
      "name": "python_desde_cero.ipynb",
      "provenance": []
    },
    "kernelspec": {
      "name": "python3",
      "display_name": "Python 3"
    }
  },
  "cells": [
    {
      "cell_type": "markdown",
      "metadata": {
        "id": "wBTkIappek47"
      },
      "source": [
        "# ¡Bienvenidos! En este cuaderno encontrarán el código necesario para seguir el tutorial [\"Python desde cero\"](https://tanizubiri.medium.com/datos-un-encuentro-cercano-80b9c3b97c29), publicado en la plataforma Medium"
      ]
    },
    {
      "cell_type": "markdown",
      "metadata": {
        "id": "mEfv-BHpfVXv"
      },
      "source": [
        "   De esta manera, podrán **copiar y pegar** las líneas y celdas sin necesidad de tener que escribirlo todo manualmente. Esto facilitará el \"code-along\", expresión utilizada para denominar la acción que realiza el usuario de un tutorial al seguir los ejercicios propuestos por el mismo mientras avanza.\n",
        "   Cualquier apropiación, modificación y/o profanación del material será severamente promovida y apoyada.\n",
        "\n",
        "\n",
        "\n"
      ]
    },
    {
      "cell_type": "markdown",
      "metadata": {
        "id": "kWsz_789ggp5"
      },
      "source": [
        "El capítulo 1 es introductorio y no contiene líneas de código."
      ]
    },
    {
      "cell_type": "markdown",
      "metadata": {
        "id": "OdFGx4W45iy0"
      },
      "source": [
        "# [Capítulo 2](https://tanizubiri.medium.com/y-d%C3%B3nde-se-habla-en-python%C3%A9s-python-desde-cero-cap-2-7b6fecafac13)"
      ]
    },
    {
      "cell_type": "code",
      "metadata": {
        "id": "UDJ0L1tH5tX6",
        "outputId": "f469d55c-66cb-424b-c65e-b360ff29306c",
        "colab": {
          "base_uri": "https://localhost:8080/",
          "height": 279
        }
      },
      "source": [
        "import pandas as pd\n",
        "datos = pd.DataFrame(data={\"a\":[1,5,8],\"b\":[3,7,2]})\n",
        "datos.plot(kind='bar')"
      ],
      "execution_count": 100,
      "outputs": [
        {
          "output_type": "execute_result",
          "data": {
            "text/plain": [
              "<matplotlib.axes._subplots.AxesSubplot at 0x7f7d4adbd048>"
            ]
          },
          "metadata": {
            "tags": []
          },
          "execution_count": 100
        },
        {
          "output_type": "display_data",
          "data": {
            "image/png": "[encoded data removed]",
            "text/plain": [
              "<Figure size 432x288 with 1 Axes>"
            ]
          },
          "metadata": {
            "tags": [],
            "needs_background": "light"
          }
        }
      ]
    },
    {
      "cell_type": "markdown",
      "metadata": {
        "id": "wmeYCloTgxOA"
      },
      "source": [
        "# [Capítulo 3](https://tanizubiri.medium.com/n%C3%BAmeros-y-palabras-python-desde-cero-cap-3-c792334d4248)"
      ]
    },
    {
      "cell_type": "code",
      "metadata": {
        "id": "dY0ixGRcecQ-"
      },
      "source": [
        "suma = 10+3,\n",
        "resta = 10-3,\n",
        "multiplicacion = 10*3,\n",
        "division = 10/3,\n",
        "entero_div = 10//3,\n",
        "resto_div = 10%3,\n",
        "potencia = 10**3"
      ],
      "execution_count": 101,
      "outputs": []
    },
    {
      "cell_type": "code",
      "metadata": {
        "id": "Vvxo_jz3hGu9",
        "outputId": "209b7d86-5185-45f7-aaef-5dbfe726e700",
        "colab": {
          "base_uri": "https://localhost:8080/"
        }
      },
      "source": [
        "print(suma, resta, multiplicacion, division, entero_div, resto_div, potencia)"
      ],
      "execution_count": 102,
      "outputs": [
        {
          "output_type": "stream",
          "text": [
            "(13,) (7,) (30,) (3.3333333333333335,) (3,) (1,) 1000\n"
          ],
          "name": "stdout"
        }
      ]
    },
    {
      "cell_type": "code",
      "metadata": {
        "id": "As9tOpgBhdgn",
        "outputId": "42aea5f5-6368-4331-ce94-79cfc1c788b4",
        "colab": {
          "base_uri": "https://localhost:8080/"
        }
      },
      "source": [
        "print(\"Si tomamos los números 10 y 3 para realizar operaciones numéricas,\\\n",
        " veremos que la suma nos da\",suma,\", la resta nos da\",resta,\", la\\\n",
        " multiplicación\",multiplicacion,\", y la división\",division,\". Además,\\\n",
        " podemos obtener sólo el entero de esta última (\",entero_div,\"),\\\n",
        " el resto (\",resto_div,\"), o también elevar 10 a su tercera\\\n",
        " potencia (\",potencia, \").\")"
      ],
      "execution_count": 103,
      "outputs": [
        {
          "output_type": "stream",
          "text": [
            "Si tomamos los números 10 y 3 para realizar operaciones numéricas, veremos que la suma nos da (13,) , la resta nos da (7,) , la multiplicación (30,) , y la división (3.3333333333333335,) . Además, podemos obtener sólo el entero de esta última ( (3,) ), el resto ( (1,) ), o también elevar 10 a su tercera potencia ( 1000 ).\n"
          ],
          "name": "stdout"
        }
      ]
    },
    {
      "cell_type": "code",
      "metadata": {
        "id": "bNSUbGHOhljf",
        "outputId": "ab77dd60-9d3a-4c76-bf1f-bf8023043b41",
        "colab": {
          "base_uri": "https://localhost:8080/"
        }
      },
      "source": [
        "print(f\"Si tomamos los números 10 y 3 para realizar operaciones numéricas,\\n\\\n",
        "veremos que la suma nos da {suma}, la resta nos da {resta}, la multiplicación\\n\\\n",
        "{multiplicacion}, y la división {division}. Además, podemos obtener sólo el\\n\\\n",
        "entero de esta última ({entero_div}), el resto ({resto_div}), \\\n",
        "o también elevar nuestro 10 a su\\ntercera potencia ({potencia}).\")"
      ],
      "execution_count": 104,
      "outputs": [
        {
          "output_type": "stream",
          "text": [
            "Si tomamos los números 10 y 3 para realizar operaciones numéricas,\n",
            "veremos que la suma nos da (13,), la resta nos da (7,), la multiplicación\n",
            "(30,), y la división (3.3333333333333335,). Además, podemos obtener sólo el\n",
            "entero de esta última ((3,)), el resto ((1,)), o también elevar nuestro 10 a su\n",
            "tercera potencia (1000).\n"
          ],
          "name": "stdout"
        }
      ]
    },
    {
      "cell_type": "code",
      "metadata": {
        "id": "5DxNgcXJjYMo",
        "outputId": "10dca874-464a-4716-b0fd-ea757c549393",
        "colab": {
          "base_uri": "https://localhost:8080/"
        }
      },
      "source": [
        "print(\"Si tomamos los números 10 y 3 para realizar operaciones numéricas, \\\n",
        "veremos\\nque la suma nos da {0}, la resta nos da {1}, la multiplicación {2}, \\\n",
        "y la división\\n{3}. Además, podemos obtener sólo el entero de esta última ({4}),\\n\\\n",
        "el resto ({5}), o también elevar 10 a su tercera potencia ({6}).\".format(suma\\\n",
        ",resta, multiplicacion,division,entero_div,resto_div,potencia))"
      ],
      "execution_count": 105,
      "outputs": [
        {
          "output_type": "stream",
          "text": [
            "Si tomamos los números 10 y 3 para realizar operaciones numéricas, veremos\n",
            "que la suma nos da (13,), la resta nos da (7,), la multiplicación (30,), y la división\n",
            "(3.3333333333333335,). Además, podemos obtener sólo el entero de esta última ((3,)),\n",
            "el resto ((1,)), o también elevar 10 a su tercera potencia (1000).\n"
          ],
          "name": "stdout"
        }
      ]
    },
    {
      "cell_type": "markdown",
      "metadata": {
        "id": "6yVX5o44jiC2"
      },
      "source": [
        "# [Capítulo 4](https://tanizubiri.medium.com/uno-detr%C3%A1s-del-otro-python-desde-cero-cap-4-ddae9c8b7450)"
      ]
    },
    {
      "cell_type": "code",
      "metadata": {
        "id": "kf8u5-J8jkWn"
      },
      "source": [
        "nombres = \"García, Mabel-González, Susana-García, Araceli-González, Carlos-\\\n",
        " González, Silvia-García, Ricardo-González, Silvio-González, Violeta-\\\n",
        " García, Alcides-González, Ulises-García, Arturo-González, Francisco-\\\n",
        " García, Jaquelin-González, Yésica-García, Braian-González, Mirtha-\\\n",
        " García, Marilyn-González, Genaro-García, Ramiro-González, Jacinto-\\\n",
        " García, Mabel-García, Jorge-García, Alberto-González, Radamel-\\\n",
        " García, Patricia-García, Esteban-García, Herminia-González, Tomás-\\\n",
        " González, Delfina-García, Gregorio-González, Héctor-García, Felipe-\\\n",
        " García, Gabriel-González, Tadeo-González, Ignacio-García, Celina-\\\n",
        " González, Estefanía-García, Pablo-González, José-González, Nora-\\\n",
        " García, Yenifer-García, Esteban-González, Valerio-García, Débora-\\\n",
        " García, Lisandro-González, Silvia-González, Sarah-García, Franco-\\\n",
        " González, Diómedes-García, Walter-González, Osvaldo-García, Julián-\\\n",
        " González, Nicolás-García, Santiago-González, Marta-García, Gladys-\\\n",
        " González, Gonzalo-González, Gregorio-García, Pedro-García, Mariela-\\\n",
        " García, Filemón-González, Fulgencio-González, Merlín-González, Fidias-\\\n",
        " García, Walter-González, Enrique-García, Victorio\""
      ],
      "execution_count": 106,
      "outputs": []
    },
    {
      "cell_type": "code",
      "metadata": {
        "id": "YLq4vsr6kYZ-",
        "outputId": "e76a2113-ba17-471c-8fc8-9b9906727ca9",
        "colab": {
          "base_uri": "https://localhost:8080/"
        }
      },
      "source": [
        "cant_garcias = nombres.count('García')\n",
        "cant_gonzalez = nombres.count('González')\n",
        "comensales = cant_garcias + cant_gonzalez\n",
        "print(comensales)"
      ],
      "execution_count": 107,
      "outputs": [
        {
          "output_type": "stream",
          "text": [
            "67\n"
          ],
          "name": "stdout"
        }
      ]
    },
    {
      "cell_type": "code",
      "metadata": {
        "id": "sUjB8UC2keC2",
        "outputId": "d5b8ad45-87b7-419f-f6ed-ce645b53a29b",
        "colab": {
          "base_uri": "https://localhost:8080/"
        }
      },
      "source": [
        "empanadas = comensales*12\n",
        "bot_vin = comensales*2\n",
        "ens_lts = comensales/2\n",
        "print(\"Necesitaremos {0} empanadas, {1} botellas de vino y {2} litros de\\\n",
        " ensalada de frutas.\".format(empanadas, bot_vin, ens_lts))"
      ],
      "execution_count": 108,
      "outputs": [
        {
          "output_type": "stream",
          "text": [
            "Necesitaremos 804 empanadas, 134 botellas de vino y 33.5 litros de ensalada de frutas.\n"
          ],
          "name": "stdout"
        }
      ]
    },
    {
      "cell_type": "code",
      "metadata": {
        "id": "5biS8z4vlLYG"
      },
      "source": [
        "ejemplo_lista = [11, \"abc\", \"lalala\", 2+2, 3/5]"
      ],
      "execution_count": 109,
      "outputs": []
    },
    {
      "cell_type": "code",
      "metadata": {
        "id": "7v4uuyIilRA-",
        "outputId": "3faa207b-3223-4758-9987-6bc8786f888e",
        "colab": {
          "base_uri": "https://localhost:8080/"
        }
      },
      "source": [
        "print (nombres[0])\n",
        "print (ejemplo_lista[-3])"
      ],
      "execution_count": 110,
      "outputs": [
        {
          "output_type": "stream",
          "text": [
            "G\n",
            "lalala\n"
          ],
          "name": "stdout"
        }
      ]
    },
    {
      "cell_type": "code",
      "metadata": {
        "id": "19sqCB0xmac3",
        "outputId": "5d2c38e1-5665-4b76-d154-828240f84171",
        "colab": {
          "base_uri": "https://localhost:8080/",
          "height": 35
        }
      },
      "source": [
        "nombres[0:13:1]"
      ],
      "execution_count": 111,
      "outputs": [
        {
          "output_type": "execute_result",
          "data": {
            "application/vnd.google.colaboratory.intrinsic+json": {
              "type": "string"
            },
            "text/plain": [
              "'García, Mabel'"
            ]
          },
          "metadata": {
            "tags": []
          },
          "execution_count": 111
        }
      ]
    },
    {
      "cell_type": "code",
      "metadata": {
        "id": "H44F0t_vmWw-",
        "outputId": "8ec0bc3e-7097-48bf-a1f1-0307ba7f10d2",
        "colab": {
          "base_uri": "https://localhost:8080/",
          "height": 35
        }
      },
      "source": [
        "nombres[0:13:2]"
      ],
      "execution_count": 112,
      "outputs": [
        {
          "output_type": "execute_result",
          "data": {
            "application/vnd.google.colaboratory.intrinsic+json": {
              "type": "string"
            },
            "text/plain": [
              "'Grí,Mbl'"
            ]
          },
          "metadata": {
            "tags": []
          },
          "execution_count": 112
        }
      ]
    },
    {
      "cell_type": "code",
      "metadata": {
        "id": "Z0yuPPtImnAe",
        "outputId": "d7b5ca83-a715-4bc6-c281-262251b11457",
        "colab": {
          "base_uri": "https://localhost:8080/"
        }
      },
      "source": [
        "lista_nombres = nombres.split('-')\n",
        "print(lista_nombres)"
      ],
      "execution_count": 113,
      "outputs": [
        {
          "output_type": "stream",
          "text": [
            "['García, Mabel', 'González, Susana', 'García, Araceli', 'González, Carlos', ' González, Silvia', 'García, Ricardo', 'González, Silvio', 'González, Violeta', ' García, Alcides', 'González, Ulises', 'García, Arturo', 'González, Francisco', ' García, Jaquelin', 'González, Yésica', 'García, Braian', 'González, Mirtha', ' García, Marilyn', 'González, Genaro', 'García, Ramiro', 'González, Jacinto', ' García, Mabel', 'García, Jorge', 'García, Alberto', 'González, Radamel', ' García, Patricia', 'García, Esteban', 'García, Herminia', 'González, Tomás', ' González, Delfina', 'García, Gregorio', 'González, Héctor', 'García, Felipe', ' García, Gabriel', 'González, Tadeo', 'González, Ignacio', 'García, Celina', ' González, Estefanía', 'García, Pablo', 'González, José', 'González, Nora', ' García, Yenifer', 'García, Esteban', 'González, Valerio', 'García, Débora', ' García, Lisandro', 'González, Silvia', 'González, Sarah', 'García, Franco', ' González, Diómedes', 'García, Walter', 'González, Osvaldo', 'García, Julián', ' González, Nicolás', 'García, Santiago', 'González, Marta', 'García, Gladys', ' González, Gonzalo', 'González, Gregorio', 'García, Pedro', 'García, Mariela', ' García, Filemón', 'González, Fulgencio', 'González, Merlín', 'González, Fidias', ' García, Walter', 'González, Enrique', 'García, Victorio']\n"
          ],
          "name": "stdout"
        }
      ]
    },
    {
      "cell_type": "code",
      "metadata": {
        "id": "p4TJ66EZmsTN",
        "outputId": "eb629b9c-5b5c-44f4-adb4-e9adcfe90c2c",
        "colab": {
          "base_uri": "https://localhost:8080/"
        }
      },
      "source": [
        "print (f\"Si le pedimos a Python el primer índice de nuestros elementos, en el\\n\\\n",
        "caso del string obtendremos '{nombres[0]}' y en el caso de la lista, '{lista_nombres[0]}'\\\n",
        ".\\nPor otra parte, si hacemos un slicing, por ejemplo desde el octavo objeto\\n\\\n",
        "hasta el décimo, obtendremos en el primer caso '{nombres[7:10]}' \\\n",
        "y en el segundo\\n'{lista_nombres[7:10]}'.\")"
      ],
      "execution_count": 114,
      "outputs": [
        {
          "output_type": "stream",
          "text": [
            "Si le pedimos a Python el primer índice de nuestros elementos, en el\n",
            "caso del string obtendremos 'G' y en el caso de la lista, 'García, Mabel'.\n",
            "Por otra parte, si hacemos un slicing, por ejemplo desde el octavo objeto\n",
            "hasta el décimo, obtendremos en el primer caso ' Ma' y en el segundo\n",
            "'['González, Violeta', ' García, Alcides', 'González, Ulises']'.\n"
          ],
          "name": "stdout"
        }
      ]
    },
    {
      "cell_type": "code",
      "metadata": {
        "id": "vLINXkjEmxOt",
        "outputId": "2ab51f68-683a-4a57-80a7-0fa1c1d5b929",
        "colab": {
          "base_uri": "https://localhost:8080/"
        }
      },
      "source": [
        "print(lista_nombres[0])\n",
        "print(lista_nombres[0][1:9])"
      ],
      "execution_count": 115,
      "outputs": [
        {
          "output_type": "stream",
          "text": [
            "García, Mabel\n",
            "arcía, M\n"
          ],
          "name": "stdout"
        }
      ]
    },
    {
      "cell_type": "code",
      "metadata": {
        "id": "9sOSAwC5m9iN",
        "outputId": "bce23336-5779-4c8a-9ab0-af9762710c6b",
        "colab": {
          "base_uri": "https://localhost:8080/"
        }
      },
      "source": [
        "cant_gente = len(lista_nombres)\n",
        "print(cant_gente)"
      ],
      "execution_count": 116,
      "outputs": [
        {
          "output_type": "stream",
          "text": [
            "67\n"
          ],
          "name": "stdout"
        }
      ]
    },
    {
      "cell_type": "code",
      "metadata": {
        "id": "5Jnb0RUQnCYt"
      },
      "source": [
        "lista_nombres.remove('González, Ignacio')\n",
        "lista_nombres.remove('García, Herminia')\n",
        "lista_nombres.append('García, Roco')\n",
        "lista_nombres.append('García, Ramona')\n",
        "lista_nombres.append('García, Rafael')"
      ],
      "execution_count": 117,
      "outputs": []
    },
    {
      "cell_type": "code",
      "metadata": {
        "id": "9wIFGIz8nKn-",
        "outputId": "15257465-7e00-497c-b08f-c4c484ba3c15",
        "colab": {
          "base_uri": "https://localhost:8080/"
        }
      },
      "source": [
        "comensales = len(lista_nombres) #Sólo con agregar esta línea basta para corregir el código\n",
        "empanadas = comensales*12\n",
        "bot_vin = comensales*2\n",
        "ens_lts = comensales/2\n",
        "print(\"Necesitaremos {0} empanadas, {1} botellas de vino y {2} litros de\\\n",
        " ensalada de frutas.\".format(empanadas, bot_vin, ens_lts))"
      ],
      "execution_count": 118,
      "outputs": [
        {
          "output_type": "stream",
          "text": [
            "Necesitaremos 816 empanadas, 136 botellas de vino y 34.0 litros de ensalada de frutas.\n"
          ],
          "name": "stdout"
        }
      ]
    },
    {
      "cell_type": "markdown",
      "metadata": {
        "id": "Cx8_tQ-2vJ1U"
      },
      "source": [
        "# [Capítulo 5](https://tanizubiri.medium.com/la-primera-funci%C3%B3n-python-desde-cero-cap-5-629e629d54a3)"
      ]
    },
    {
      "cell_type": "code",
      "metadata": {
        "id": "J8Sw0yCxvMYb"
      },
      "source": [
        "mesas = \"Mesa 1: 5 comensales-Mesa 2: 7 comensales-Mesa 3: 6 comensales-\\\n",
        "Mesa 4: 5 comensales-Mesa 5: 6 comensales-Mesa 6: 7 comensales-\\\n",
        "Mesa 7: 8 comensales-Mesa 8: 6 comensales-Mesa 9: 5 comensales-\\\n",
        "Mesa 10: 8 comensales-Mesa 11: 7 comensales-Mesa 12: 5 comensales-\\\n",
        "Mesa 13: 5 comensales-Mesa 14: 5 comensales\""
      ],
      "execution_count": 119,
      "outputs": []
    },
    {
      "cell_type": "code",
      "metadata": {
        "id": "U26ROQifvzUa"
      },
      "source": [
        "lista_mesas = mesas.split('-')"
      ],
      "execution_count": 120,
      "outputs": []
    },
    {
      "cell_type": "code",
      "metadata": {
        "id": "SCqqYxdMv1nS",
        "outputId": "0ffc21cd-1a28-4cba-9b38-3e9be6c6a9e2",
        "colab": {
          "base_uri": "https://localhost:8080/"
        }
      },
      "source": [
        "print(lista_mesas)"
      ],
      "execution_count": 121,
      "outputs": [
        {
          "output_type": "stream",
          "text": [
            "['Mesa 1: 5 comensales', 'Mesa 2: 7 comensales', 'Mesa 3: 6 comensales', 'Mesa 4: 5 comensales', 'Mesa 5: 6 comensales', 'Mesa 6: 7 comensales', 'Mesa 7: 8 comensales', 'Mesa 8: 6 comensales', 'Mesa 9: 5 comensales', 'Mesa 10: 8 comensales', 'Mesa 11: 7 comensales', 'Mesa 12: 5 comensales', 'Mesa 13: 5 comensales', 'Mesa 14: 5 comensales']\n"
          ],
          "name": "stdout"
        }
      ]
    },
    {
      "cell_type": "code",
      "metadata": {
        "id": "j6eK5gCMv3Zi",
        "outputId": "163c6006-556d-42b5-8217-e900c8ad1ba3",
        "colab": {
          "base_uri": "https://localhost:8080/",
          "height": 35
        }
      },
      "source": [
        "lista_mesas[0]"
      ],
      "execution_count": 122,
      "outputs": [
        {
          "output_type": "execute_result",
          "data": {
            "application/vnd.google.colaboratory.intrinsic+json": {
              "type": "string"
            },
            "text/plain": [
              "'Mesa 1: 5 comensales'"
            ]
          },
          "metadata": {
            "tags": []
          },
          "execution_count": 122
        }
      ]
    },
    {
      "cell_type": "markdown",
      "metadata": {
        "id": "--AVuWjewQ_C"
      },
      "source": [
        "Observemos que la siguiente celda comienza con numeral. Esto se debe a que al ejecutarla nos daría error. Por eso la \"comentamos\" para que cuando le pidamos a Colab que ejecute todo ('Entorno de ejecución', 'Ejecutar todas'), el proceso no se frene en este punto. Si queremos ejecutarla, simplemente borramos el \"#\" y ¡voilá!"
      ]
    },
    {
      "cell_type": "code",
      "metadata": {
        "id": "jwImAoq5v7-b"
      },
      "source": [
        "#lista_mesas[0][:6] * lista_mesas[0][8]"
      ],
      "execution_count": 123,
      "outputs": []
    },
    {
      "cell_type": "code",
      "metadata": {
        "id": "PcLdcks4wMv6",
        "outputId": "20876b4b-273a-4645-faf7-d892eb692735",
        "colab": {
          "base_uri": "https://localhost:8080/",
          "height": 35
        }
      },
      "source": [
        "lista_mesas[0][:6] * int(lista_mesas[0][8])"
      ],
      "execution_count": 124,
      "outputs": [
        {
          "output_type": "execute_result",
          "data": {
            "application/vnd.google.colaboratory.intrinsic+json": {
              "type": "string"
            },
            "text/plain": [
              "'Mesa 1Mesa 1Mesa 1Mesa 1Mesa 1'"
            ]
          },
          "metadata": {
            "tags": []
          },
          "execution_count": 124
        }
      ]
    },
    {
      "cell_type": "code",
      "metadata": {
        "id": "rugCWkiXyIVr",
        "outputId": "85f0c9ca-88f7-4eb8-a2ce-7607df433ed3",
        "colab": {
          "base_uri": "https://localhost:8080/",
          "height": 35
        }
      },
      "source": [
        "lista_mesas[0][:6] + '-' * int(lista_mesas[0][8])"
      ],
      "execution_count": 125,
      "outputs": [
        {
          "output_type": "execute_result",
          "data": {
            "application/vnd.google.colaboratory.intrinsic+json": {
              "type": "string"
            },
            "text/plain": [
              "'Mesa 1-----'"
            ]
          },
          "metadata": {
            "tags": []
          },
          "execution_count": 125
        }
      ]
    },
    {
      "cell_type": "code",
      "metadata": {
        "id": "SG7WBFF-yOb0",
        "outputId": "e410c806-17d3-40a9-c07f-1ebcfd4d5545",
        "colab": {
          "base_uri": "https://localhost:8080/",
          "height": 35
        }
      },
      "source": [
        "(lista_mesas[0][:6] + '-') * int(lista_mesas[0][8])"
      ],
      "execution_count": 126,
      "outputs": [
        {
          "output_type": "execute_result",
          "data": {
            "application/vnd.google.colaboratory.intrinsic+json": {
              "type": "string"
            },
            "text/plain": [
              "'Mesa 1-Mesa 1-Mesa 1-Mesa 1-Mesa 1-'"
            ]
          },
          "metadata": {
            "tags": []
          },
          "execution_count": 126
        }
      ]
    },
    {
      "cell_type": "code",
      "metadata": {
        "id": "4ALhXfWRyVOT",
        "outputId": "e2f8be0b-2ccc-441c-811f-6675206874a4",
        "colab": {
          "base_uri": "https://localhost:8080/"
        }
      },
      "source": [
        "((lista_mesas[0][:6] + '-') * int(lista_mesas[0][8])).split('-')"
      ],
      "execution_count": 127,
      "outputs": [
        {
          "output_type": "execute_result",
          "data": {
            "text/plain": [
              "['Mesa 1', 'Mesa 1', 'Mesa 1', 'Mesa 1', 'Mesa 1', '']"
            ]
          },
          "metadata": {
            "tags": []
          },
          "execution_count": 127
        }
      ]
    },
    {
      "cell_type": "code",
      "metadata": {
        "id": "Cj4qzN5GynR9",
        "outputId": "f2f24723-4bfc-46bc-b264-6b43ecf63242",
        "colab": {
          "base_uri": "https://localhost:8080/",
          "height": 35
        }
      },
      "source": [
        "((lista_mesas[0][:6] + '-') * int(lista_mesas[0][8])).split('-').pop(-1)"
      ],
      "execution_count": 128,
      "outputs": [
        {
          "output_type": "execute_result",
          "data": {
            "application/vnd.google.colaboratory.intrinsic+json": {
              "type": "string"
            },
            "text/plain": [
              "''"
            ]
          },
          "metadata": {
            "tags": []
          },
          "execution_count": 128
        }
      ]
    },
    {
      "cell_type": "code",
      "metadata": {
        "id": "6xllgkqLysPj"
      },
      "source": [
        "((lista_mesas[0][:6] + '-') * int(lista_mesas[0][8])).split('-').remove('')"
      ],
      "execution_count": 129,
      "outputs": []
    },
    {
      "cell_type": "code",
      "metadata": {
        "id": "sZHZqMC-yzgU",
        "outputId": "9eaf1101-bff7-4fd5-a3fc-aacb225f4be4",
        "colab": {
          "base_uri": "https://localhost:8080/"
        }
      },
      "source": [
        "etiquetas = ((lista_mesas[0][:6] + '-') * int(lista_mesas[0][8])).split('-')\n",
        "etiquetas.remove('')\n",
        "etiquetas"
      ],
      "execution_count": 130,
      "outputs": [
        {
          "output_type": "execute_result",
          "data": {
            "text/plain": [
              "['Mesa 1', 'Mesa 1', 'Mesa 1', 'Mesa 1', 'Mesa 1']"
            ]
          },
          "metadata": {
            "tags": []
          },
          "execution_count": 130
        }
      ]
    },
    {
      "cell_type": "code",
      "metadata": {
        "id": "YEbMBMPuy68G",
        "outputId": "8e039f74-a19f-488d-8ee6-ce79a819aa3d",
        "colab": {
          "base_uri": "https://localhost:8080/"
        }
      },
      "source": [
        "def hacer_etiquetas(x):\n",
        "  etiquetas = ((x[:6] + '-') * int(x[8])).split('-')\n",
        "  etiquetas.remove('')\n",
        "  return etiquetas\n",
        "\n",
        "hacer_etiquetas(lista_mesas[0])"
      ],
      "execution_count": 131,
      "outputs": [
        {
          "output_type": "execute_result",
          "data": {
            "text/plain": [
              "['Mesa 1', 'Mesa 1', 'Mesa 1', 'Mesa 1', 'Mesa 1']"
            ]
          },
          "metadata": {
            "tags": []
          },
          "execution_count": 131
        }
      ]
    }
  ]
}